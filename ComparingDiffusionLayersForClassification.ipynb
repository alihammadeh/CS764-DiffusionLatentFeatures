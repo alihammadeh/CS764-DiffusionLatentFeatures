{
 "cells": [
  {
   "cell_type": "code",
   "execution_count": 7,
   "id": "21b3784a-f76c-4199-98a3-911e468d891c",
   "metadata": {},
   "outputs": [],
   "source": [
    "import torch\n",
    "import torch.nn as nn\n",
    "import torch.optim as optim\n",
    "from torch.utils.data import DataLoader, TensorDataset\n",
    "from torchvision import datasets, transforms, models\n",
    "from diffusers import DDPMPipeline\n",
    "import numpy as np\n",
    "import random"
   ]
  },
  {
   "cell_type": "code",
   "execution_count": 8,
   "id": "ecddc8d5-490b-4a7a-8808-6c0f63c6ec65",
   "metadata": {},
   "outputs": [],
   "source": [
    "def set_seed(seed):\n",
    "    torch.manual_seed(seed)\n",
    "    torch.cuda.manual_seed_all(seed)\n",
    "    np.random.seed(seed)\n",
    "    random.seed(seed)\n",
    "    torch.backends.cudnn.deterministic = True\n",
    "\n",
    "set_seed(42)"
   ]
  },
  {
   "cell_type": "code",
   "execution_count": 9,
   "id": "756aab00-d5d8-4819-8d9a-a0664faa5661",
   "metadata": {},
   "outputs": [],
   "source": [
    "class DDPMWithFeatures(nn.Module):\n",
    "    def __init__(self, pipeline):\n",
    "        super(DDPMWithFeatures, self).__init__()\n",
    "        self.pipeline = pipeline\n",
    "        self.unet = pipeline.unet\n",
    "\n",
    "    def forward(self, sample, timestep, layer_indices):\n",
    "        x = sample\n",
    "        t_emb = self.unet.time_proj(timestep)\n",
    "        t_emb = self.unet.time_embedding(t_emb)\n",
    "\n",
    "        # Initial convolution\n",
    "        x = self.unet.conv_in(x)\n",
    "\n",
    "        features = {}\n",
    "        # Downsampling blocks\n",
    "        for i, down_block in enumerate(self.unet.down_blocks):\n",
    "            x_tuple = down_block(x, t_emb)\n",
    "            x, _ = x_tuple\n",
    "\n",
    "            if i in layer_indices:\n",
    "                features[i] = x\n",
    "\n",
    "        # Middle block\n",
    "        mid_output = self.unet.mid_block(x, t_emb)\n",
    "        if isinstance(mid_output, tuple):\n",
    "            x = mid_output[0]\n",
    "        else:\n",
    "            x = mid_output\n",
    "\n",
    "        if len(self.unet.down_blocks) in layer_indices:\n",
    "            features[len(self.unet.down_blocks)] = x\n",
    "\n",
    "        return features\n"
   ]
  },
  {
   "cell_type": "code",
   "execution_count": 10,
   "id": "59261112-7c55-4db8-9e0f-1bc8d68191b1",
   "metadata": {},
   "outputs": [],
   "source": [
    "def extract_features_by_layer(data_loader, model, layer_indices, device):\n",
    "\n",
    "    all_features = {layer: [] for layer in layer_indices}\n",
    "    all_labels = []\n",
    "\n",
    "    with torch.no_grad():\n",
    "        for images, labels in data_loader:\n",
    "            images = images.to(device)\n",
    "            batch_size = images.size(0)\n",
    "\n",
    "            # Use t=0 for clean images\n",
    "            timesteps = torch.tensor([0] * batch_size, device=device).long()\n",
    "\n",
    "            # Extract features from multiple layers of the diffusion model\n",
    "            features = model(images, timesteps, layer_indices)\n",
    "\n",
    "            for layer_index in layer_indices:\n",
    "                # Get the feature tensor from the specified layer\n",
    "                layer_features = features[layer_index]\n",
    "                layer_features = layer_features.reshape(batch_size, -1)\n",
    "\n",
    "                # Store the features for this layer\n",
    "                all_features[layer_index].append(layer_features.cpu())\n",
    "\n",
    "            all_labels.append(labels)\n",
    "\n",
    "    # Concatenate features and labels for each layer\n",
    "    for layer_index in layer_indices:\n",
    "        all_features[layer_index] = torch.cat(all_features[layer_index])\n",
    "    all_labels = torch.cat(all_labels)\n",
    "\n",
    "    return all_features, all_labels\n"
   ]
  },
  {
   "cell_type": "code",
   "execution_count": 11,
   "id": "fd81b801-d0b1-4049-a79e-2da64b43987e",
   "metadata": {},
   "outputs": [],
   "source": [
    "class MLPClassifier(nn.Module):\n",
    "    def __init__(self, input_dim, num_classes,dropout=0.5):\n",
    "        super(MLPClassifier, self).__init__()\n",
    "        self.classifier = nn.Sequential(\n",
    "            nn.Linear(input_dim, 512),\n",
    "            nn.ReLU(),\n",
    "            nn.Dropout(dropout),\n",
    "            nn.Linear(512, num_classes)\n",
    "        )\n",
    "\n",
    "    def forward(self, x):\n",
    "        return self.classifier(x)"
   ]
  },
  {
   "cell_type": "code",
   "execution_count": 12,
   "id": "327dd04e-67ee-4788-be92-b40a8874ccb5",
   "metadata": {},
   "outputs": [],
   "source": [
    "def train_classifier(features, labels, input_dim, device, num_classes=10, epochs=10, batch_size=128, learning_rate=0.001,dropout=0.5):\n",
    "\n",
    "    # Define the classifier model (simple MLP with one hidden layer and ReLU activation)\n",
    "    model = MLPClassifier(input_dim=input_dim, num_classes=num_classes,dropout=dropout).to(device)\n",
    "\n",
    "    # Define the loss function and optimizer\n",
    "    criterion = nn.CrossEntropyLoss()\n",
    "    optimizer = torch.optim.Adam(model.parameters(), lr=learning_rate)\n",
    "\n",
    "    # Create a DataLoader for training\n",
    "    dataset = torch.utils.data.TensorDataset(features, labels)\n",
    "    loader = DataLoader(dataset, batch_size=batch_size, shuffle=True)\n",
    "\n",
    "    # Training loop\n",
    "    model.train()  # Set model to training mode\n",
    "    for epoch in range(epochs):\n",
    "        running_loss = 0.0\n",
    "\n",
    "        # Loop over batches\n",
    "        for inputs, lbls in loader:\n",
    "            inputs, lbls = inputs.to(device), lbls.to(device)  # Move data to the specified device\n",
    "\n",
    "            optimizer.zero_grad()  # Reset gradients\n",
    "\n",
    "            outputs = model(inputs)  # Forward pass through the model\n",
    "\n",
    "            loss = criterion(outputs, lbls)  # Compute loss\n",
    "            loss.backward()  # Backward pass to compute gradients\n",
    "\n",
    "            optimizer.step()  # Update model parameters\n",
    "\n",
    "            running_loss += loss.item() * inputs.size(0)  # Accumulate loss\n",
    "\n",
    "        # Calculate average loss for the epoch\n",
    "        epoch_loss = running_loss / len(dataset)\n",
    "        print(f'Epoch [{epoch+1}/{epochs}], Loss: {epoch_loss:.4f}')\n",
    "\n",
    "    return model"
   ]
  },
  {
   "cell_type": "code",
   "execution_count": 13,
   "id": "ee7ba4bc-0004-45b3-b617-f4f523f74f0b",
   "metadata": {},
   "outputs": [],
   "source": [
    "def evaluate_classifier(model, test_features, test_labels, device):\n",
    "    model.eval()\n",
    "    correct = 0\n",
    "    total = 0\n",
    "    with torch.no_grad():\n",
    "        for i in range(0, len(test_features), 128):\n",
    "            inputs = test_features[i:i+128].to(device)\n",
    "            lbls = test_labels[i:i+128].to(device)\n",
    "            outputs = model(inputs)\n",
    "            _, predicted = torch.max(outputs.data, 1)\n",
    "            total += lbls.size(0)\n",
    "            correct += (predicted == lbls).sum().item()\n",
    "\n",
    "    accuracy = 100 * correct / total\n",
    "    return accuracy\n"
   ]
  },
  {
   "cell_type": "code",
   "execution_count": 21,
   "id": "034c541a-855f-4a13-8be1-5723467ab535",
   "metadata": {},
   "outputs": [
    {
     "data": {
      "application/vnd.jupyter.widget-view+json": {
       "model_id": "c27f2a2c8a9b4530b3c2368994de5edf",
       "version_major": 2,
       "version_minor": 0
      },
      "text/plain": [
       "Loading pipeline components...:   0%|          | 0/2 [00:00<?, ?it/s]"
      ]
     },
     "metadata": {},
     "output_type": "display_data"
    },
    {
     "data": {
      "text/plain": [
       "UNet2DModel(\n",
       "  (conv_in): Conv2d(3, 128, kernel_size=(3, 3), stride=(1, 1), padding=(1, 1))\n",
       "  (time_proj): Timesteps()\n",
       "  (time_embedding): TimestepEmbedding(\n",
       "    (linear_1): Linear(in_features=128, out_features=512, bias=True)\n",
       "    (act): SiLU()\n",
       "    (linear_2): Linear(in_features=512, out_features=512, bias=True)\n",
       "  )\n",
       "  (down_blocks): ModuleList(\n",
       "    (0): DownBlock2D(\n",
       "      (resnets): ModuleList(\n",
       "        (0-1): 2 x ResnetBlock2D(\n",
       "          (norm1): GroupNorm(32, 128, eps=1e-06, affine=True)\n",
       "          (conv1): Conv2d(128, 128, kernel_size=(3, 3), stride=(1, 1), padding=(1, 1))\n",
       "          (time_emb_proj): Linear(in_features=512, out_features=128, bias=True)\n",
       "          (norm2): GroupNorm(32, 128, eps=1e-06, affine=True)\n",
       "          (dropout): Dropout(p=0.0, inplace=False)\n",
       "          (conv2): Conv2d(128, 128, kernel_size=(3, 3), stride=(1, 1), padding=(1, 1))\n",
       "          (nonlinearity): SiLU()\n",
       "        )\n",
       "      )\n",
       "      (downsamplers): ModuleList(\n",
       "        (0): Downsample2D(\n",
       "          (conv): Conv2d(128, 128, kernel_size=(3, 3), stride=(2, 2))\n",
       "        )\n",
       "      )\n",
       "    )\n",
       "    (1): AttnDownBlock2D(\n",
       "      (attentions): ModuleList(\n",
       "        (0-1): 2 x Attention(\n",
       "          (group_norm): GroupNorm(32, 256, eps=1e-06, affine=True)\n",
       "          (to_q): Linear(in_features=256, out_features=256, bias=True)\n",
       "          (to_k): Linear(in_features=256, out_features=256, bias=True)\n",
       "          (to_v): Linear(in_features=256, out_features=256, bias=True)\n",
       "          (to_out): ModuleList(\n",
       "            (0): Linear(in_features=256, out_features=256, bias=True)\n",
       "            (1): Dropout(p=0.0, inplace=False)\n",
       "          )\n",
       "        )\n",
       "      )\n",
       "      (resnets): ModuleList(\n",
       "        (0): ResnetBlock2D(\n",
       "          (norm1): GroupNorm(32, 128, eps=1e-06, affine=True)\n",
       "          (conv1): Conv2d(128, 256, kernel_size=(3, 3), stride=(1, 1), padding=(1, 1))\n",
       "          (time_emb_proj): Linear(in_features=512, out_features=256, bias=True)\n",
       "          (norm2): GroupNorm(32, 256, eps=1e-06, affine=True)\n",
       "          (dropout): Dropout(p=0.0, inplace=False)\n",
       "          (conv2): Conv2d(256, 256, kernel_size=(3, 3), stride=(1, 1), padding=(1, 1))\n",
       "          (nonlinearity): SiLU()\n",
       "          (conv_shortcut): Conv2d(128, 256, kernel_size=(1, 1), stride=(1, 1))\n",
       "        )\n",
       "        (1): ResnetBlock2D(\n",
       "          (norm1): GroupNorm(32, 256, eps=1e-06, affine=True)\n",
       "          (conv1): Conv2d(256, 256, kernel_size=(3, 3), stride=(1, 1), padding=(1, 1))\n",
       "          (time_emb_proj): Linear(in_features=512, out_features=256, bias=True)\n",
       "          (norm2): GroupNorm(32, 256, eps=1e-06, affine=True)\n",
       "          (dropout): Dropout(p=0.0, inplace=False)\n",
       "          (conv2): Conv2d(256, 256, kernel_size=(3, 3), stride=(1, 1), padding=(1, 1))\n",
       "          (nonlinearity): SiLU()\n",
       "        )\n",
       "      )\n",
       "      (downsamplers): ModuleList(\n",
       "        (0): Downsample2D(\n",
       "          (conv): Conv2d(256, 256, kernel_size=(3, 3), stride=(2, 2))\n",
       "        )\n",
       "      )\n",
       "    )\n",
       "    (2): DownBlock2D(\n",
       "      (resnets): ModuleList(\n",
       "        (0-1): 2 x ResnetBlock2D(\n",
       "          (norm1): GroupNorm(32, 256, eps=1e-06, affine=True)\n",
       "          (conv1): Conv2d(256, 256, kernel_size=(3, 3), stride=(1, 1), padding=(1, 1))\n",
       "          (time_emb_proj): Linear(in_features=512, out_features=256, bias=True)\n",
       "          (norm2): GroupNorm(32, 256, eps=1e-06, affine=True)\n",
       "          (dropout): Dropout(p=0.0, inplace=False)\n",
       "          (conv2): Conv2d(256, 256, kernel_size=(3, 3), stride=(1, 1), padding=(1, 1))\n",
       "          (nonlinearity): SiLU()\n",
       "        )\n",
       "      )\n",
       "      (downsamplers): ModuleList(\n",
       "        (0): Downsample2D(\n",
       "          (conv): Conv2d(256, 256, kernel_size=(3, 3), stride=(2, 2))\n",
       "        )\n",
       "      )\n",
       "    )\n",
       "    (3): DownBlock2D(\n",
       "      (resnets): ModuleList(\n",
       "        (0-1): 2 x ResnetBlock2D(\n",
       "          (norm1): GroupNorm(32, 256, eps=1e-06, affine=True)\n",
       "          (conv1): Conv2d(256, 256, kernel_size=(3, 3), stride=(1, 1), padding=(1, 1))\n",
       "          (time_emb_proj): Linear(in_features=512, out_features=256, bias=True)\n",
       "          (norm2): GroupNorm(32, 256, eps=1e-06, affine=True)\n",
       "          (dropout): Dropout(p=0.0, inplace=False)\n",
       "          (conv2): Conv2d(256, 256, kernel_size=(3, 3), stride=(1, 1), padding=(1, 1))\n",
       "          (nonlinearity): SiLU()\n",
       "        )\n",
       "      )\n",
       "    )\n",
       "  )\n",
       "  (up_blocks): ModuleList(\n",
       "    (0-1): 2 x UpBlock2D(\n",
       "      (resnets): ModuleList(\n",
       "        (0-2): 3 x ResnetBlock2D(\n",
       "          (norm1): GroupNorm(32, 512, eps=1e-06, affine=True)\n",
       "          (conv1): Conv2d(512, 256, kernel_size=(3, 3), stride=(1, 1), padding=(1, 1))\n",
       "          (time_emb_proj): Linear(in_features=512, out_features=256, bias=True)\n",
       "          (norm2): GroupNorm(32, 256, eps=1e-06, affine=True)\n",
       "          (dropout): Dropout(p=0.0, inplace=False)\n",
       "          (conv2): Conv2d(256, 256, kernel_size=(3, 3), stride=(1, 1), padding=(1, 1))\n",
       "          (nonlinearity): SiLU()\n",
       "          (conv_shortcut): Conv2d(512, 256, kernel_size=(1, 1), stride=(1, 1))\n",
       "        )\n",
       "      )\n",
       "      (upsamplers): ModuleList(\n",
       "        (0): Upsample2D(\n",
       "          (conv): Conv2d(256, 256, kernel_size=(3, 3), stride=(1, 1), padding=(1, 1))\n",
       "        )\n",
       "      )\n",
       "    )\n",
       "    (2): AttnUpBlock2D(\n",
       "      (attentions): ModuleList(\n",
       "        (0-2): 3 x Attention(\n",
       "          (group_norm): GroupNorm(32, 256, eps=1e-06, affine=True)\n",
       "          (to_q): Linear(in_features=256, out_features=256, bias=True)\n",
       "          (to_k): Linear(in_features=256, out_features=256, bias=True)\n",
       "          (to_v): Linear(in_features=256, out_features=256, bias=True)\n",
       "          (to_out): ModuleList(\n",
       "            (0): Linear(in_features=256, out_features=256, bias=True)\n",
       "            (1): Dropout(p=0.0, inplace=False)\n",
       "          )\n",
       "        )\n",
       "      )\n",
       "      (resnets): ModuleList(\n",
       "        (0-1): 2 x ResnetBlock2D(\n",
       "          (norm1): GroupNorm(32, 512, eps=1e-06, affine=True)\n",
       "          (conv1): Conv2d(512, 256, kernel_size=(3, 3), stride=(1, 1), padding=(1, 1))\n",
       "          (time_emb_proj): Linear(in_features=512, out_features=256, bias=True)\n",
       "          (norm2): GroupNorm(32, 256, eps=1e-06, affine=True)\n",
       "          (dropout): Dropout(p=0.0, inplace=False)\n",
       "          (conv2): Conv2d(256, 256, kernel_size=(3, 3), stride=(1, 1), padding=(1, 1))\n",
       "          (nonlinearity): SiLU()\n",
       "          (conv_shortcut): Conv2d(512, 256, kernel_size=(1, 1), stride=(1, 1))\n",
       "        )\n",
       "        (2): ResnetBlock2D(\n",
       "          (norm1): GroupNorm(32, 384, eps=1e-06, affine=True)\n",
       "          (conv1): Conv2d(384, 256, kernel_size=(3, 3), stride=(1, 1), padding=(1, 1))\n",
       "          (time_emb_proj): Linear(in_features=512, out_features=256, bias=True)\n",
       "          (norm2): GroupNorm(32, 256, eps=1e-06, affine=True)\n",
       "          (dropout): Dropout(p=0.0, inplace=False)\n",
       "          (conv2): Conv2d(256, 256, kernel_size=(3, 3), stride=(1, 1), padding=(1, 1))\n",
       "          (nonlinearity): SiLU()\n",
       "          (conv_shortcut): Conv2d(384, 256, kernel_size=(1, 1), stride=(1, 1))\n",
       "        )\n",
       "      )\n",
       "      (upsamplers): ModuleList(\n",
       "        (0): Upsample2D(\n",
       "          (conv): Conv2d(256, 256, kernel_size=(3, 3), stride=(1, 1), padding=(1, 1))\n",
       "        )\n",
       "      )\n",
       "    )\n",
       "    (3): UpBlock2D(\n",
       "      (resnets): ModuleList(\n",
       "        (0): ResnetBlock2D(\n",
       "          (norm1): GroupNorm(32, 384, eps=1e-06, affine=True)\n",
       "          (conv1): Conv2d(384, 128, kernel_size=(3, 3), stride=(1, 1), padding=(1, 1))\n",
       "          (time_emb_proj): Linear(in_features=512, out_features=128, bias=True)\n",
       "          (norm2): GroupNorm(32, 128, eps=1e-06, affine=True)\n",
       "          (dropout): Dropout(p=0.0, inplace=False)\n",
       "          (conv2): Conv2d(128, 128, kernel_size=(3, 3), stride=(1, 1), padding=(1, 1))\n",
       "          (nonlinearity): SiLU()\n",
       "          (conv_shortcut): Conv2d(384, 128, kernel_size=(1, 1), stride=(1, 1))\n",
       "        )\n",
       "        (1-2): 2 x ResnetBlock2D(\n",
       "          (norm1): GroupNorm(32, 256, eps=1e-06, affine=True)\n",
       "          (conv1): Conv2d(256, 128, kernel_size=(3, 3), stride=(1, 1), padding=(1, 1))\n",
       "          (time_emb_proj): Linear(in_features=512, out_features=128, bias=True)\n",
       "          (norm2): GroupNorm(32, 128, eps=1e-06, affine=True)\n",
       "          (dropout): Dropout(p=0.0, inplace=False)\n",
       "          (conv2): Conv2d(128, 128, kernel_size=(3, 3), stride=(1, 1), padding=(1, 1))\n",
       "          (nonlinearity): SiLU()\n",
       "          (conv_shortcut): Conv2d(256, 128, kernel_size=(1, 1), stride=(1, 1))\n",
       "        )\n",
       "      )\n",
       "    )\n",
       "  )\n",
       "  (mid_block): UNetMidBlock2D(\n",
       "    (attentions): ModuleList(\n",
       "      (0): Attention(\n",
       "        (group_norm): GroupNorm(32, 256, eps=1e-06, affine=True)\n",
       "        (to_q): Linear(in_features=256, out_features=256, bias=True)\n",
       "        (to_k): Linear(in_features=256, out_features=256, bias=True)\n",
       "        (to_v): Linear(in_features=256, out_features=256, bias=True)\n",
       "        (to_out): ModuleList(\n",
       "          (0): Linear(in_features=256, out_features=256, bias=True)\n",
       "          (1): Dropout(p=0.0, inplace=False)\n",
       "        )\n",
       "      )\n",
       "    )\n",
       "    (resnets): ModuleList(\n",
       "      (0-1): 2 x ResnetBlock2D(\n",
       "        (norm1): GroupNorm(32, 256, eps=1e-06, affine=True)\n",
       "        (conv1): Conv2d(256, 256, kernel_size=(3, 3), stride=(1, 1), padding=(1, 1))\n",
       "        (time_emb_proj): Linear(in_features=512, out_features=256, bias=True)\n",
       "        (norm2): GroupNorm(32, 256, eps=1e-06, affine=True)\n",
       "        (dropout): Dropout(p=0.0, inplace=False)\n",
       "        (conv2): Conv2d(256, 256, kernel_size=(3, 3), stride=(1, 1), padding=(1, 1))\n",
       "        (nonlinearity): SiLU()\n",
       "      )\n",
       "    )\n",
       "  )\n",
       "  (conv_norm_out): GroupNorm(32, 128, eps=1e-06, affine=True)\n",
       "  (conv_act): SiLU()\n",
       "  (conv_out): Conv2d(128, 3, kernel_size=(3, 3), stride=(1, 1), padding=(1, 1))\n",
       ")"
      ]
     },
     "execution_count": 21,
     "metadata": {},
     "output_type": "execute_result"
    }
   ],
   "source": [
    "# Set up device\n",
    "device = torch.device('cuda' if torch.cuda.is_available() else 'cpu')\n",
    "\n",
    "# Load the pre-trained DDPM model from Hugging Face\n",
    "model_name = \"google/ddpm-cifar10-32\"\n",
    "ddpm_pipeline = DDPMPipeline.from_pretrained(model_name)\n",
    "ddpm_pipeline.to(device)\n",
    "unet = ddpm_pipeline.unet\n",
    "unet.eval()"
   ]
  },
  {
   "cell_type": "code",
   "execution_count": 23,
   "id": "a738950d-ffd8-4ae0-bc50-e8659f234065",
   "metadata": {},
   "outputs": [
    {
     "name": "stdout",
     "output_type": "stream",
     "text": [
      "Files already downloaded and verified\n",
      "Files already downloaded and verified\n"
     ]
    }
   ],
   "source": [
    "# Load CIFAR-10 Data\n",
    "\n",
    "transform = transforms.Compose([\n",
    "    transforms.ToTensor(),\n",
    "    transforms.Normalize((0.5,), (0.5,))  # Normalize images to [-1, 1]\n",
    "])\n",
    "\n",
    "# Training data\n",
    "train_dataset = datasets.CIFAR10(root='./data', train=True, download=True, transform=transform)\n",
    "# Test data\n",
    "test_dataset = datasets.CIFAR10(root='./data', train=False, download=True, transform=transform)\n",
    "batch_size = 128\n",
    "\n",
    "train_loader = DataLoader(train_dataset, batch_size=batch_size, shuffle=False, num_workers=2)\n",
    "test_loader = DataLoader(test_dataset, batch_size=batch_size, shuffle=False, num_workers=2)\n",
    "# Define the indices of the layers you want to extract features from\n",
    "layer_indices = [0, 1, 2, 3]  # Change these indices based on your model structure\n",
    "\n",
    "# Initialize the modified DDPM model wrapper\n",
    "ddpm_with_features = DDPMWithFeatures(ddpm_pipeline).to(device)\n",
    "\n",
    "# Extract features from different layers of the DDPM model\n",
    "diffusion_train_features, diffusion_train_labels = extract_features_by_layer(\n",
    "    train_loader, ddpm_with_features, layer_indices, device\n",
    ")\n",
    "\n",
    "diffusion_test_features, diffusion_test_labels = extract_features_by_layer(\n",
    "    test_loader, ddpm_with_features, layer_indices, device\n",
    ")\n",
    "\n"
   ]
  },
  {
   "cell_type": "code",
   "execution_count": 24,
   "id": "1964d64c-ce8d-42cb-827f-d3aed84f034e",
   "metadata": {},
   "outputs": [
    {
     "name": "stdout",
     "output_type": "stream",
     "text": [
      "\n",
      "Training classifier for features from layer 0...\n",
      "Epoch [1/10], Loss: 1.7844\n",
      "Epoch [2/10], Loss: 1.2540\n",
      "Epoch [3/10], Loss: 1.1568\n",
      "Epoch [4/10], Loss: 1.0858\n",
      "Epoch [5/10], Loss: 1.0256\n",
      "Epoch [6/10], Loss: 0.9932\n",
      "Epoch [7/10], Loss: 0.9542\n",
      "Epoch [8/10], Loss: 0.9236\n",
      "Epoch [9/10], Loss: 0.8797\n",
      "Epoch [10/10], Loss: 0.8654\n",
      "Evaluating classifier for features from layer 0...\n",
      "Layer 0 Accuracy: 66.28%\n",
      "\n",
      "Training classifier for features from layer 1...\n",
      "Epoch [1/10], Loss: 1.4707\n",
      "Epoch [2/10], Loss: 1.0376\n",
      "Epoch [3/10], Loss: 0.9452\n",
      "Epoch [4/10], Loss: 0.8739\n",
      "Epoch [5/10], Loss: 0.8100\n",
      "Epoch [6/10], Loss: 0.7711\n",
      "Epoch [7/10], Loss: 0.7556\n",
      "Epoch [8/10], Loss: 0.6981\n",
      "Epoch [9/10], Loss: 0.6860\n",
      "Epoch [10/10], Loss: 0.6618\n",
      "Evaluating classifier for features from layer 1...\n",
      "Layer 1 Accuracy: 73.37%\n",
      "\n",
      "Training classifier for features from layer 2...\n",
      "Epoch [1/10], Loss: 1.3757\n",
      "Epoch [2/10], Loss: 0.8625\n",
      "Epoch [3/10], Loss: 0.7757\n",
      "Epoch [4/10], Loss: 0.7231\n",
      "Epoch [5/10], Loss: 0.6877\n",
      "Epoch [6/10], Loss: 0.6756\n",
      "Epoch [7/10], Loss: 0.6442\n",
      "Epoch [8/10], Loss: 0.6208\n",
      "Epoch [9/10], Loss: 0.6141\n",
      "Epoch [10/10], Loss: 0.5904\n",
      "Evaluating classifier for features from layer 2...\n",
      "Layer 2 Accuracy: 77.44%\n",
      "\n",
      "Training classifier for features from layer 3...\n",
      "Epoch [1/10], Loss: 1.2743\n",
      "Epoch [2/10], Loss: 0.8162\n",
      "Epoch [3/10], Loss: 0.7275\n",
      "Epoch [4/10], Loss: 0.6834\n",
      "Epoch [5/10], Loss: 0.6404\n",
      "Epoch [6/10], Loss: 0.6229\n",
      "Epoch [7/10], Loss: 0.5902\n",
      "Epoch [8/10], Loss: 0.5726\n",
      "Epoch [9/10], Loss: 0.5643\n",
      "Epoch [10/10], Loss: 0.5477\n",
      "Evaluating classifier for features from layer 3...\n",
      "Layer 3 Accuracy: 77.73%\n",
      "\n",
      "Best Layer for Feature Extraction: 3, Accuracy: 77.73%\n"
     ]
    }
   ],
   "source": [
    "# Train and evaluate classifiers for each layer (same code as previous)\n",
    "layer_performances = {}\n",
    "\n",
    "for layer_index in layer_indices:\n",
    "    print(f\"\\nTraining classifier for features from layer {layer_index}...\")\n",
    "\n",
    "    # Get the shape of the features to define input dimensions\n",
    "    input_dim = diffusion_train_features[layer_index].shape[1]\n",
    "\n",
    "    # Train the classifier\n",
    "    classifier = train_classifier(diffusion_train_features[layer_index], diffusion_train_labels, input_dim, device)\n",
    "\n",
    "    # Evaluate the classifier\n",
    "    print(f\"Evaluating classifier for features from layer {layer_index}...\")\n",
    "    accuracy = evaluate_classifier(classifier, diffusion_test_features[layer_index], diffusion_test_labels, device)\n",
    "\n",
    "    layer_performances[layer_index] = accuracy\n",
    "    print(f\"Layer {layer_index} Accuracy: {accuracy:.2f}%\")\n",
    "\n",
    "# Determine the best layer based on accuracy\n",
    "best_layer = max(layer_performances, key=layer_performances.get)\n",
    "print(f\"\\nBest Layer for Feature Extraction: {best_layer}, Accuracy: {layer_performances[best_layer]:.2f}%\")"
   ]
  },
  {
   "cell_type": "code",
   "execution_count": 41,
   "id": "43b975ed-40b0-4b1d-96c0-3a121a6cbac8",
   "metadata": {},
   "outputs": [],
   "source": [
    "import pandas as pd\n",
    "pd.Series(layer_performances).to_csv('data/layer_performances.csv')"
   ]
  },
  {
   "cell_type": "code",
   "execution_count": 25,
   "id": "c4fa58a9-9b7c-45ae-8fbd-b6d8d82f75b3",
   "metadata": {},
   "outputs": [
    {
     "name": "stderr",
     "output_type": "stream",
     "text": [
      "C:\\Users\\AliHa\\anaconda3\\envs\\cs764\\Lib\\site-packages\\torchvision\\models\\_utils.py:208: UserWarning: The parameter 'pretrained' is deprecated since 0.13 and may be removed in the future, please use 'weights' instead.\n",
      "  warnings.warn(\n",
      "C:\\Users\\AliHa\\anaconda3\\envs\\cs764\\Lib\\site-packages\\torchvision\\models\\_utils.py:223: UserWarning: Arguments other than a weight enum or `None` for 'weights' are deprecated since 0.13 and may be removed in the future. The current behavior is equivalent to passing `weights=ResNet18_Weights.IMAGENET1K_V1`. You can also use `weights=ResNet18_Weights.DEFAULT` to get the most up-to-date weights.\n",
      "  warnings.warn(msg)\n"
     ]
    }
   ],
   "source": [
    "# Pre-trained ResNet model\n",
    "resnet_model = models.resnet18(pretrained=True)\n",
    "# Remove the final fully connected layer to get feature representations\n",
    "resnet_model = nn.Sequential(*list(resnet_model.children())[:-1])\n",
    "resnet_model = resnet_model.to(device)\n",
    "resnet_model.eval()\n",
    "\n",
    "def extract_cnn_features(data_loader, model):\n",
    "    features = []\n",
    "    labels = []\n",
    "    with torch.no_grad():\n",
    "        for images, lbls in data_loader:\n",
    "            images = images.to(device)\n",
    "            # Extract features from ResNet\n",
    "            outputs = model(images).view(images.size(0), -1)  # Flatten output from ResNet\n",
    "            features.append(outputs.cpu())\n",
    "            labels.append(lbls)\n",
    "    features = torch.cat(features)\n",
    "    labels = torch.cat(labels)\n",
    "    return features, labels\n",
    "\n",
    "# Extracting training and testing features\n",
    "cnn_train_features, cnn_train_labels = extract_cnn_features(train_loader, resnet_model)\n",
    "cnn_test_features, cnn_test_labels = extract_cnn_features(test_loader, resnet_model)"
   ]
  },
  {
   "cell_type": "code",
   "execution_count": 39,
   "id": "11da5b42-a652-43df-8377-dccd6d91bf73",
   "metadata": {},
   "outputs": [],
   "source": [
    "model_scores = {}"
   ]
  },
  {
   "cell_type": "code",
   "execution_count": 47,
   "id": "cd347e0b-43ab-48d0-9140-f1fc03ce39ef",
   "metadata": {},
   "outputs": [
    {
     "name": "stdout",
     "output_type": "stream",
     "text": [
      "Epoch [1/10], Loss: 1.1249\n",
      "Epoch [2/10], Loss: 0.9592\n",
      "Epoch [3/10], Loss: 0.8992\n",
      "Epoch [4/10], Loss: 0.8588\n",
      "Epoch [5/10], Loss: 0.8254\n",
      "Epoch [6/10], Loss: 0.7906\n",
      "Epoch [7/10], Loss: 0.7603\n",
      "Epoch [8/10], Loss: 0.7354\n",
      "Epoch [9/10], Loss: 0.7061\n",
      "Epoch [10/10], Loss: 0.6861\n",
      "CNN-based Classifier Performance:\n",
      "70.89\n"
     ]
    }
   ],
   "source": [
    "cnn_input_dim = cnn_train_features.shape[1]\n",
    "cnn_classifier = train_classifier(cnn_train_features, cnn_train_labels, cnn_input_dim,device,dropout=0.5)\n",
    "print(\"CNN-based Classifier Performance:\")\n",
    "cnn_accuracy = evaluate_classifier(cnn_classifier, cnn_test_features, cnn_test_labels, device)\n",
    "print(cnn_accuracy)\n",
    "model_scores['ResNet'] =  [cnn_accuracy, cnn_input_dim]"
   ]
  },
  {
   "cell_type": "markdown",
   "id": "83b79e63-d9af-471f-a83c-64055ccad208",
   "metadata": {},
   "source": [
    "# Densenet Model"
   ]
  },
  {
   "cell_type": "code",
   "execution_count": 48,
   "id": "03b9746a-1491-4783-804e-9cd447be8399",
   "metadata": {},
   "outputs": [],
   "source": [
    "cnn_model = models.densenet121(pretrained=True)  # or models.densenet169(pretrained=True)\n",
    "cnn_model = nn.Sequential(*list(cnn_model.children())[:-1])  # Remove the classifier\n",
    "cnn_model = cnn_model.to(device)\n",
    "cnn_model.eval()\n",
    "\n",
    "cnn_train_features, cnn_train_labels = extract_cnn_features(train_loader, cnn_model)\n",
    "cnn_test_features, cnn_test_labels = extract_cnn_features(test_loader, cnn_model)"
   ]
  },
  {
   "cell_type": "code",
   "execution_count": 49,
   "id": "cdf97760-3eda-4402-b63e-c603154b262c",
   "metadata": {},
   "outputs": [
    {
     "name": "stdout",
     "output_type": "stream",
     "text": [
      "Epoch [1/10], Loss: 1.1272\n",
      "Epoch [2/10], Loss: 0.9631\n",
      "Epoch [3/10], Loss: 0.9049\n",
      "Epoch [4/10], Loss: 0.8604\n",
      "Epoch [5/10], Loss: 0.8207\n",
      "Epoch [6/10], Loss: 0.7902\n",
      "Epoch [7/10], Loss: 0.7625\n",
      "Epoch [8/10], Loss: 0.7387\n",
      "Epoch [9/10], Loss: 0.7043\n",
      "Epoch [10/10], Loss: 0.6830\n",
      "Densenet-based Classifier Performance:\n",
      "70.55\n"
     ]
    }
   ],
   "source": [
    "cnn_input_dim = cnn_train_features.shape[1]\n",
    "cnn_classifier = train_classifier(cnn_train_features, cnn_train_labels, cnn_input_dim,device,dropout=0.5)\n",
    "print(\"Densenet-based Classifier Performance:\")\n",
    "cnn_accuracy = evaluate_classifier(cnn_classifier, cnn_test_features, cnn_test_labels, device)\n",
    "print(cnn_accuracy)\n",
    "model_scores['densenet121'] = [cnn_accuracy, cnn_input_dim]"
   ]
  },
  {
   "cell_type": "markdown",
   "id": "abc92d03-e060-4331-8907-e370c5a339a0",
   "metadata": {},
   "source": [
    "# Efficient Net"
   ]
  },
  {
   "cell_type": "code",
   "execution_count": 53,
   "id": "98dfbda9-9e7d-4204-ac58-cc3ebbc393c3",
   "metadata": {},
   "outputs": [
    {
     "name": "stderr",
     "output_type": "stream",
     "text": [
      "C:\\Users\\AliHa\\anaconda3\\envs\\cs764\\Lib\\site-packages\\torchvision\\models\\_utils.py:223: UserWarning: Arguments other than a weight enum or `None` for 'weights' are deprecated since 0.13 and may be removed in the future. The current behavior is equivalent to passing `weights=EfficientNet_B0_Weights.IMAGENET1K_V1`. You can also use `weights=EfficientNet_B0_Weights.DEFAULT` to get the most up-to-date weights.\n",
      "  warnings.warn(msg)\n",
      "Downloading: \"https://download.pytorch.org/models/efficientnet_b0_rwightman-7f5810bc.pth\" to C:\\Users\\AliHa/.cache\\torch\\hub\\checkpoints\\efficientnet_b0_rwightman-7f5810bc.pth\n",
      "100%|██████████| 20.5M/20.5M [00:00<00:00, 56.5MB/s]\n"
     ]
    }
   ],
   "source": [
    "cnn_model = models.efficientnet_b0(pretrained=True)\n",
    "cnn_model = nn.Sequential(*list(cnn_model.children())[:-1])\n",
    "cnn_model = cnn_model.to(device)\n",
    "cnn_model.eval()\n",
    "\n",
    "cnn_train_features, cnn_train_labels = extract_cnn_features(train_loader, cnn_model)\n",
    "cnn_test_features, cnn_test_labels = extract_cnn_features(test_loader, cnn_model)"
   ]
  },
  {
   "cell_type": "code",
   "execution_count": 54,
   "id": "427f2552-6e35-4642-9afb-2878f5ea0403",
   "metadata": {},
   "outputs": [
    {
     "name": "stdout",
     "output_type": "stream",
     "text": [
      "Epoch [1/10], Loss: 1.5708\n",
      "Epoch [2/10], Loss: 1.3918\n",
      "Epoch [3/10], Loss: 1.3418\n",
      "Epoch [4/10], Loss: 1.3090\n",
      "Epoch [5/10], Loss: 1.2873\n",
      "Epoch [6/10], Loss: 1.2716\n",
      "Epoch [7/10], Loss: 1.2551\n",
      "Epoch [8/10], Loss: 1.2447\n",
      "Epoch [9/10], Loss: 1.2286\n",
      "Epoch [10/10], Loss: 1.2217\n",
      "efficientnet_b0-based Classifier Performance:\n",
      "57.6\n"
     ]
    }
   ],
   "source": [
    "cnn_input_dim = cnn_train_features.shape[1]\n",
    "cnn_classifier = train_classifier(cnn_train_features, cnn_train_labels, cnn_input_dim,device,dropout=0.5)\n",
    "print(\"efficientnet_b0-based Classifier Performance:\")\n",
    "cnn_accuracy = evaluate_classifier(cnn_classifier, cnn_test_features, cnn_test_labels, device)\n",
    "print(cnn_accuracy)\n",
    "model_scores['efficientnet_b0'] =  [cnn_accuracy, cnn_input_dim]"
   ]
  },
  {
   "cell_type": "markdown",
   "id": "863f2572-b7cd-4749-b56a-ab7a8f205006",
   "metadata": {},
   "source": [
    "# MobileNet v2"
   ]
  },
  {
   "cell_type": "code",
   "execution_count": 57,
   "id": "19d9b50e-b415-4a52-8ecb-b1b0bb676a15",
   "metadata": {},
   "outputs": [
    {
     "name": "stderr",
     "output_type": "stream",
     "text": [
      "C:\\Users\\AliHa\\anaconda3\\envs\\cs764\\Lib\\site-packages\\torchvision\\models\\_utils.py:223: UserWarning: Arguments other than a weight enum or `None` for 'weights' are deprecated since 0.13 and may be removed in the future. The current behavior is equivalent to passing `weights=MobileNet_V2_Weights.IMAGENET1K_V1`. You can also use `weights=MobileNet_V2_Weights.DEFAULT` to get the most up-to-date weights.\n",
      "  warnings.warn(msg)\n",
      "Downloading: \"https://download.pytorch.org/models/mobilenet_v2-b0353104.pth\" to C:\\Users\\AliHa/.cache\\torch\\hub\\checkpoints\\mobilenet_v2-b0353104.pth\n",
      "100%|██████████| 13.6M/13.6M [00:00<00:00, 48.0MB/s]\n"
     ]
    }
   ],
   "source": [
    "cnn_model = models.mobilenet_v2(pretrained=True) \n",
    "cnn_model = nn.Sequential(*list(cnn_model.children())[:-1])\n",
    "cnn_model = cnn_model.to(device)\n",
    "cnn_model.eval()\n",
    "\n",
    "cnn_train_features, cnn_train_labels = extract_cnn_features(train_loader, cnn_model)\n",
    "cnn_test_features, cnn_test_labels = extract_cnn_features(test_loader, cnn_model)"
   ]
  },
  {
   "cell_type": "code",
   "execution_count": 58,
   "id": "4b9d5eb6-a483-48f9-82cf-7aee9c8880e4",
   "metadata": {},
   "outputs": [
    {
     "name": "stdout",
     "output_type": "stream",
     "text": [
      "Epoch [1/10], Loss: 1.5362\n",
      "Epoch [2/10], Loss: 1.3149\n",
      "Epoch [3/10], Loss: 1.2421\n",
      "Epoch [4/10], Loss: 1.1884\n",
      "Epoch [5/10], Loss: 1.1467\n",
      "Epoch [6/10], Loss: 1.1057\n",
      "Epoch [7/10], Loss: 1.0724\n",
      "Epoch [8/10], Loss: 1.0353\n",
      "Epoch [9/10], Loss: 0.9994\n",
      "Epoch [10/10], Loss: 0.9631\n",
      "mobilenet_v2-based Classifier Performance:\n",
      "58.25\n"
     ]
    }
   ],
   "source": [
    "cnn_input_dim = cnn_train_features.shape[1]\n",
    "cnn_classifier = train_classifier(cnn_train_features, cnn_train_labels, cnn_input_dim,device,dropout=0.5)\n",
    "print(\"mobilenet_v2-based Classifier Performance:\")\n",
    "cnn_accuracy = evaluate_classifier(cnn_classifier, cnn_test_features, cnn_test_labels, device)\n",
    "print(cnn_accuracy)\n",
    "model_scores['mobilenet_v2'] =  [cnn_accuracy, cnn_input_dim]"
   ]
  },
  {
   "cell_type": "markdown",
   "id": "f07ed6cb-a45b-4ab2-a0f6-4de7db678c51",
   "metadata": {},
   "source": [
    "# ResNeXt-50"
   ]
  },
  {
   "cell_type": "code",
   "execution_count": 61,
   "id": "e8edbc6b-4d2c-415e-8edf-64f6823855e8",
   "metadata": {},
   "outputs": [
    {
     "name": "stderr",
     "output_type": "stream",
     "text": [
      "C:\\Users\\AliHa\\anaconda3\\envs\\cs764\\Lib\\site-packages\\torchvision\\models\\_utils.py:223: UserWarning: Arguments other than a weight enum or `None` for 'weights' are deprecated since 0.13 and may be removed in the future. The current behavior is equivalent to passing `weights=ResNeXt50_32X4D_Weights.IMAGENET1K_V1`. You can also use `weights=ResNeXt50_32X4D_Weights.DEFAULT` to get the most up-to-date weights.\n",
      "  warnings.warn(msg)\n",
      "Downloading: \"https://download.pytorch.org/models/resnext50_32x4d-7cdf4587.pth\" to C:\\Users\\AliHa/.cache\\torch\\hub\\checkpoints\\resnext50_32x4d-7cdf4587.pth\n",
      "100%|██████████| 95.8M/95.8M [00:18<00:00, 5.34MB/s]\n"
     ]
    }
   ],
   "source": [
    "cnn_model = models.resnext50_32x4d(pretrained=True)\n",
    "cnn_model = nn.Sequential(*list(cnn_model.children())[:-1])  \n",
    "cnn_model = cnn_model.to(device)\n",
    "cnn_model.eval()\n",
    "\n",
    "cnn_train_features, cnn_train_labels = extract_cnn_features(train_loader, cnn_model)\n",
    "cnn_test_features, cnn_test_labels = extract_cnn_features(test_loader, cnn_model)"
   ]
  },
  {
   "cell_type": "code",
   "execution_count": 62,
   "id": "b3e592b6-eaa7-44b3-8d8b-2f13d5026445",
   "metadata": {},
   "outputs": [
    {
     "name": "stdout",
     "output_type": "stream",
     "text": [
      "Epoch [1/10], Loss: 1.1307\n",
      "Epoch [2/10], Loss: 0.9368\n",
      "Epoch [3/10], Loss: 0.8800\n",
      "Epoch [4/10], Loss: 0.8372\n",
      "Epoch [5/10], Loss: 0.7988\n",
      "Epoch [6/10], Loss: 0.7696\n",
      "Epoch [7/10], Loss: 0.7422\n",
      "Epoch [8/10], Loss: 0.7091\n",
      "Epoch [9/10], Loss: 0.6880\n",
      "Epoch [10/10], Loss: 0.6642\n",
      "resnext50-based Classifier Performance:\n",
      "71.49\n"
     ]
    }
   ],
   "source": [
    "cnn_input_dim = cnn_train_features.shape[1]\n",
    "cnn_classifier = train_classifier(cnn_train_features, cnn_train_labels, cnn_input_dim,device,dropout=0.5)\n",
    "print(\"resnext50-based Classifier Performance:\")\n",
    "cnn_accuracy = evaluate_classifier(cnn_classifier, cnn_test_features, cnn_test_labels, device)\n",
    "print(cnn_accuracy)\n",
    "model_scores['resnext50'] =  [cnn_accuracy, cnn_input_dim]"
   ]
  },
  {
   "cell_type": "markdown",
   "id": "1fd2a2f1-2ce2-41aa-a61f-ca7ec3bb690d",
   "metadata": {},
   "source": [
    "# VGG-16"
   ]
  },
  {
   "cell_type": "code",
   "execution_count": 66,
   "id": "fa9f0466-b4a6-4798-bf66-24f1c72f2726",
   "metadata": {},
   "outputs": [
    {
     "name": "stderr",
     "output_type": "stream",
     "text": [
      "C:\\Users\\AliHa\\anaconda3\\envs\\cs764\\Lib\\site-packages\\torchvision\\models\\_utils.py:223: UserWarning: Arguments other than a weight enum or `None` for 'weights' are deprecated since 0.13 and may be removed in the future. The current behavior is equivalent to passing `weights=VGG16_Weights.IMAGENET1K_V1`. You can also use `weights=VGG16_Weights.DEFAULT` to get the most up-to-date weights.\n",
      "  warnings.warn(msg)\n"
     ]
    }
   ],
   "source": [
    "cnn_model = models.vgg16(pretrained=True)\n",
    "cnn_model = nn.Sequential(*list(cnn_model.children())[:-1])\n",
    "cnn_model = cnn_model.to(device)\n",
    "cnn_model.eval()\n",
    "\n",
    "cnn_train_features, cnn_train_labels = extract_cnn_features(train_loader, cnn_model)\n",
    "cnn_test_features, cnn_test_labels = extract_cnn_features(test_loader, cnn_model)"
   ]
  },
  {
   "cell_type": "code",
   "execution_count": 67,
   "id": "e350c4a7-5c68-4015-9971-ba9d31b98092",
   "metadata": {},
   "outputs": [
    {
     "name": "stdout",
     "output_type": "stream",
     "text": [
      "Epoch [1/10], Loss: 1.3315\n",
      "Epoch [2/10], Loss: 1.1733\n",
      "Epoch [3/10], Loss: 1.1358\n",
      "Epoch [4/10], Loss: 1.1098\n",
      "Epoch [5/10], Loss: 1.0897\n",
      "Epoch [6/10], Loss: 1.0722\n",
      "Epoch [7/10], Loss: 1.0546\n",
      "Epoch [8/10], Loss: 1.0415\n",
      "Epoch [9/10], Loss: 1.0288\n",
      "Epoch [10/10], Loss: 1.0166\n",
      "vgg16-based Classifier Performance:\n",
      "65.34\n"
     ]
    }
   ],
   "source": [
    "cnn_input_dim = cnn_train_features.shape[1]\n",
    "cnn_classifier = train_classifier(cnn_train_features, cnn_train_labels, cnn_input_dim,device,dropout=0.5)\n",
    "print(\"vgg16-based Classifier Performance:\")\n",
    "cnn_accuracy = evaluate_classifier(cnn_classifier, cnn_test_features, cnn_test_labels, device)\n",
    "print(cnn_accuracy)\n",
    "model_scores['vgg-16'] =  [cnn_accuracy, cnn_input_dim]"
   ]
  },
  {
   "cell_type": "code",
   "execution_count": 77,
   "id": "cedd2e80-ea3c-4732-bd41-c7cbf6ed04c8",
   "metadata": {},
   "outputs": [],
   "source": [
    "import pandas as pd\n",
    "pd.DataFrame(model_scores).to_csv('data/model_scores.csv')"
   ]
  },
  {
   "cell_type": "code",
   "execution_count": null,
   "id": "04c84f8f-0be3-49a8-a029-f3d4a57451a1",
   "metadata": {},
   "outputs": [],
   "source": []
  }
 ],
 "metadata": {
  "kernelspec": {
   "display_name": "Python cs764",
   "language": "python",
   "name": "cs764"
  },
  "language_info": {
   "codemirror_mode": {
    "name": "ipython",
    "version": 3
   },
   "file_extension": ".py",
   "mimetype": "text/x-python",
   "name": "python",
   "nbconvert_exporter": "python",
   "pygments_lexer": "ipython3",
   "version": "3.12.7"
  }
 },
 "nbformat": 4,
 "nbformat_minor": 5
}
